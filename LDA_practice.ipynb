{
  "nbformat": 4,
  "nbformat_minor": 0,
  "metadata": {
    "colab": {
      "provenance": [],
      "authorship_tag": "ABX9TyObucsEtggiX6adSV2wf+06",
      "include_colab_link": true
    },
    "kernelspec": {
      "name": "python3",
      "display_name": "Python 3"
    },
    "language_info": {
      "name": "python"
    }
  },
  "cells": [
    {
      "cell_type": "markdown",
      "metadata": {
        "id": "view-in-github",
        "colab_type": "text"
      },
      "source": [
        "<a href=\"https://colab.research.google.com/github/MK316/TM/blob/main/LDA_practice.ipynb\" target=\"_parent\"><img src=\"https://colab.research.google.com/assets/colab-badge.svg\" alt=\"Open In Colab\"/></a>"
      ]
    },
    {
      "cell_type": "markdown",
      "source": [
        "# Latent Dirichlet Allocation (LDA)\n",
        "\n",
        "Online reference [(Korean)](https://wikidocs.net/30708)"
      ],
      "metadata": {
        "id": "OdaxS6HPU3V-"
      }
    },
    {
      "cell_type": "markdown",
      "source": [
        "## LDA process\n",
        "1. Specify the number of topic(s) to select: e.g., k (k is a hyperparameter, which is specified by the user.)  \n",
        "_* Note_: k can change the output result.\n",
        "2. Assign each word **ramdomly** to the topic group (k).\n",
        "3. For each word in each document, the following iterative processes apply.  \n",
        "3-1) Topic reassignment: for _w_, the assumption is that it is assigned incorrectly unlike all the others.  \n",
        "3-2) "
      ],
      "metadata": {
        "id": "MQHMU8w9VYJN"
      }
    },
    {
      "cell_type": "code",
      "execution_count": null,
      "metadata": {
        "id": "GTpLPOO-Uy6v"
      },
      "outputs": [],
      "source": []
    }
  ]
}